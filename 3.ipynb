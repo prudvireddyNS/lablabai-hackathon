{
 "cells": [
  {
   "cell_type": "code",
   "execution_count": 21,
   "metadata": {},
   "outputs": [],
   "source": [
    "from crewai import Task, Agent, Crew, Process\n",
    "from langchain.tools import tool, Tool\n",
    "import re\n",
    "import os\n",
    "from langchain_groq import ChatGroq\n",
    "# llm = ChatGroq(model='mixtral-8x7b-32768', temperature=0.6, max_tokens=2048)\n",
    "llm = ChatGroq(model='llama3-70b-8192', temperature=0.6, max_tokens=512)\n",
    "from langchain_community.tools import WikipediaQueryRun\n",
    "from langchain_community.utilities import WikipediaAPIWrapper\n",
    "from langchain_core.pydantic_v1 import BaseModel, Field"
   ]
  },
  {
   "cell_type": "code",
   "execution_count": 2,
   "metadata": {},
   "outputs": [
    {
     "data": {
      "text/plain": [
       "\"Hi! It's nice to meet you. Is there something I can help you with or would you like to chat?\""
      ]
     },
     "execution_count": 2,
     "metadata": {},
     "output_type": "execute_result"
    }
   ],
   "source": [
    "llm.invoke('hi').content"
   ]
  },
  {
   "cell_type": "code",
   "execution_count": 2,
   "metadata": {},
   "outputs": [
    {
     "name": "stderr",
     "output_type": "stream",
     "text": [
      "c:\\Users\\prudh\\anaconda3\\envs\\gen_ai1\\lib\\site-packages\\diffusers\\models\\transformers\\transformer_2d.py:34: FutureWarning: `Transformer2DModelOutput` is deprecated and will be removed in version 1.0.0. Importing `Transformer2DModelOutput` from `diffusers.models.transformer_2d` is deprecated and this will be removed in a future version. Please use `from diffusers.models.modeling_outputs import Transformer2DModelOutput`, instead.\n",
      "  deprecate(\"Transformer2DModelOutput\", \"1.0.0\", deprecation_message)\n"
     ]
    },
    {
     "data": {
      "application/vnd.jupyter.widget-view+json": {
       "model_id": "16c150619d2346be85a0b34aff285d8b",
       "version_major": 2,
       "version_minor": 0
      },
      "text/plain": [
       "Loading pipeline components...:   0%|          | 0/7 [00:00<?, ?it/s]"
      ]
     },
     "metadata": {},
     "output_type": "display_data"
    }
   ],
   "source": [
    "from diffusers import DiffusionPipeline, StableDiffusionXLPipeline, DPMSolverSinglestepScheduler\n",
    "import bitsandbytes as bnb\n",
    "import torch.nn as nn\n",
    "import torch\n",
    "import pyttsx3\n",
    "import os\n",
    "\n",
    "pipe = StableDiffusionXLPipeline.from_pretrained(\"sd-community/sdxl-flash\", torch_dtype=torch.float16).to('cuda')\n",
    "pipe.scheduler = DPMSolverSinglestepScheduler.from_config(pipe.scheduler.config, timestep_spacing=\"trailing\")\n",
    "\n",
    "def quantize_model_to_4bit(model):\n",
    "    replacements = []\n",
    "\n",
    "    # Collect layers to be replaced\n",
    "    for name, module in model.named_modules():\n",
    "        if isinstance(module, nn.Linear):\n",
    "            replacements.append((name, module))\n",
    "\n",
    "    # Replace layers\n",
    "    for name, module in replacements:\n",
    "        # Split the name to navigate to the parent module\n",
    "        *path, last = name.split('.')\n",
    "        parent = model\n",
    "        for part in path:\n",
    "            parent = getattr(parent, part)\n",
    "\n",
    "        # Create and assign the quantized layer\n",
    "        quantized_layer = bnb.nn.Linear4bit(module.in_features, module.out_features, bias=module.bias is not None)\n",
    "        quantized_layer.weight.data = module.weight.data\n",
    "        if module.bias is not None:\n",
    "            quantized_layer.bias.data = module.bias.data\n",
    "        setattr(parent, last, quantized_layer)\n",
    "\n",
    "    return model\n",
    "\n",
    "pipe.unet = quantize_model_to_4bit(pipe.unet)\n",
    "pipe.enable_model_cpu_offload()\n",
    "\n",
    "def generate_speech(text, speech_dir='./outputs/audio', lang='en', speed=155, voice='default', num=0):\n",
    "    \"\"\"\n",
    "    Generates speech for given script.\n",
    "    \"\"\"\n",
    "    engine = pyttsx3.init()\n",
    "    \n",
    "    # Set language and voice\n",
    "    voices = engine.getProperty('voices')\n",
    "    if voice == 'default':\n",
    "        voice_id = voices[1].id\n",
    "    else:\n",
    "        # Try to find the voice with the given name\n",
    "        voice_id = None\n",
    "        for v in voices:\n",
    "            if voice in v.name:\n",
    "                voice_id = v.id\n",
    "                break\n",
    "        if not voice_id:\n",
    "            raise ValueError(f\"Voice '{voice}' not found.\")\n",
    "    \n",
    "    engine.setProperty('voice', voice_id)\n",
    "    engine.setProperty('rate', speed)\n",
    "    os.remove(os.path.join(speech_dir, f'speech_{num}.mp3')) if os.path.exists(os.path.join(speech_dir, f'speech_{num}.mp3')) else None\n",
    "    engine.save_to_file(text, os.path.join(speech_dir, f'speech_{num}.mp3'))\n",
    "    engine.runAndWait()"
   ]
  },
  {
   "cell_type": "code",
   "execution_count": 6,
   "metadata": {},
   "outputs": [],
   "source": [
    "import cv2\n",
    "from moviepy.editor import ImageClip, AudioFileClip, concatenate_videoclips\n",
    "from langchain.pydantic_v1 import BaseModel, Field\n",
    "\n",
    "class VideoGeneration(BaseModel):\n",
    "    images_dir : str = Field(description='Path to images directory, such as \"outputs/images\"')\n",
    "    speeches_dir : str = Field(description='Path to speeches directory, such as \"outputs/speeches\"')\n",
    "\n",
    "@tool(args_schema=VideoGeneration)\n",
    "def create_video_from_images_and_audio(images_dir, speeches_dir, zoom_factor=1.2):\n",
    "    \"\"\"Creates video using images and audios.\n",
    "    Args:\n",
    "    images_dir: path to images folder, example 'outputs/images'\n",
    "    speeches_dir: path to speeches folder, example 'outputs/speeches'\"\"\"\n",
    "    images_paths = os.listdir(images_dir)\n",
    "    audio_paths = os.listdir(speeches_dir)\n",
    "    # print(images_paths, audio_paths)\n",
    "    clips = []\n",
    "    \n",
    "    for i in range(min(len(images_paths), len(audio_paths))):\n",
    "        # Load the image\n",
    "        img_clip = ImageClip(os.path.join(images_dir, images_paths[i]))\n",
    "        \n",
    "        # Load the audio file\n",
    "        audioclip = AudioFileClip(os.path.join(speeches_dir, audio_paths[i]))\n",
    "        \n",
    "        # Set the duration of the video clip to the duration of the audio file\n",
    "        videoclip = img_clip.set_duration(audioclip.duration)\n",
    "        \n",
    "        # Apply zoom-in effect to the video clip\n",
    "        zoomed_clip = apply_zoom_in_effect(videoclip, zoom_factor)\n",
    "        \n",
    "        # Add audio to the zoomed video clip\n",
    "        zoomed_clip = zoomed_clip.set_audio(audioclip)\n",
    "        \n",
    "        clips.append(zoomed_clip)\n",
    "    \n",
    "    # Concatenate all video clips\n",
    "    final_clip = concatenate_videoclips(clips)\n",
    "    \n",
    "    # Write the result to a file\n",
    "    final_clip.write_videofile(\"outputs/final_video/final_video.mp4\", codec='libx264', fps=24)\n",
    "    \n",
    "    return \"final_video.mp4\"\n",
    "\n",
    "def apply_zoom_in_effect(clip, zoom_factor=1.2):\n",
    "    width, height = clip.size\n",
    "    duration = clip.duration\n",
    "\n",
    "    def zoom_in_effect(get_frame, t):\n",
    "        frame = get_frame(t)\n",
    "        zoom = 1 + (zoom_factor - 1) * (t / duration)\n",
    "        new_width, new_height = int(width * zoom), int(height * zoom)\n",
    "        resized_frame = cv2.resize(frame, (new_width, new_height))\n",
    "        \n",
    "        # Calculate the position to crop the frame to the original size\n",
    "        x_start = (new_width - width) // 2\n",
    "        y_start = (new_height - height) // 2\n",
    "        cropped_frame = resized_frame[y_start:y_start + height, x_start:x_start + width]\n",
    "        \n",
    "        return cropped_frame\n",
    "\n",
    "    return clip.fl(zoom_in_effect, apply_to=['mask'])\n",
    "\n",
    "# Example usage\n",
    "# image_paths = \"outputs/images\"\n",
    "# audio_paths = \"outputs/audio\"\n",
    "\n",
    "# video_path = create_video_from_images_and_audio(image_paths, audio_paths)\n",
    "# print(f\"Video created at: {video_path}\")"
   ]
  },
  {
   "cell_type": "code",
   "execution_count": 38,
   "metadata": {},
   "outputs": [],
   "source": [
    "class WikiInputs(BaseModel):\n",
    "    \"\"\"Inputs to the wikipedia tool.\"\"\"\n",
    "    query: str = Field(description=\"query to look up in Wikipedia, should be 3 or less words\")\n",
    "\n",
    "api_wrapper = WikipediaAPIWrapper(top_k_results=3)#, doc_content_chars_max=100)\n",
    "\n",
    "wiki_tool = WikipediaQueryRun(\n",
    "    name=\"wiki-tool\",\n",
    "    description=\"{query:'input here'}\",\n",
    "    args_schema=WikiInputs,\n",
    "    api_wrapper=api_wrapper,\n",
    "    return_direct=True,\n",
    ")\n",
    "\n",
    "wiki = Tool(\n",
    "    name = 'wikipedia',\n",
    "    func = wiki_tool.run,\n",
    "    description= \"{query:'input here'}\"\n",
    ")\n",
    "\n",
    "# wiki_tool.run(\"latest news in India\")"
   ]
  },
  {
   "cell_type": "code",
   "execution_count": null,
   "metadata": {},
   "outputs": [],
   "source": []
  },
  {
   "cell_type": "code",
   "execution_count": null,
   "metadata": {},
   "outputs": [],
   "source": []
  },
  {
   "cell_type": "code",
   "execution_count": 8,
   "metadata": {},
   "outputs": [],
   "source": [
    "# @tool\n",
    "def process_script(script):\n",
    "    \"\"\"Used to process the script into dictionary format\"\"\"\n",
    "    dict = {}\n",
    "    dict['text_for_image_generation'] = re.findall(r'<image>(.*?)</?image>', script)\n",
    "    dict['text_for_speech_generation'] = re.findall(r'<narration>.*?</?narration>', script)\n",
    "    return dict"
   ]
  },
  {
   "cell_type": "code",
   "execution_count": 44,
   "metadata": {},
   "outputs": [],
   "source": [
    "@tool\n",
    "def image_generator(script):\n",
    "    \"\"\"Generates images for the given script.\n",
    "    Saves it to images_dir and return path\n",
    "    Args:\n",
    "    script: a complete script containing narrations and image descriptions\"\"\"\n",
    "    images_dir = './outputs/images'\n",
    "    # if num==1:\n",
    "    for filename in os.listdir(images_dir):\n",
    "        file_path = os.path.join(images_dir, filename)\n",
    "        if os.path.isfile(file_path):\n",
    "            os.remove(file_path)\n",
    "\n",
    "    dict = process_script(script)\n",
    "    for i, text in enumerate(dict['text_for_image_generation']):\n",
    "    # if '<image>' in text:\n",
    "    #     text = re.findall(r'<image>(.*?)<image>', text)\n",
    "    # else:\n",
    "    #     text = text\n",
    "      image = pipe(text, num_inference_steps=10, guidance_scale=2, width=720, height=1280, verbose=0).images[0]\n",
    "    # print(num)\n",
    "    # os.remove(os.path.join(images_dir, f'image{num}.jpg')) if os.path.exists(os.path.join(images_dir, f'image{num}.jpg')) else None\n",
    "      image.save(os.path.join(images_dir, f'image_{i}.jpg'))\n",
    "    return f'images generated.'#f'image generated for \"{text}\" and saved to directory {images_dir} as image{num}.jpg'\n",
    "\n",
    "@tool\n",
    "def speech_generator(script):\n",
    "    \"\"\"Generates speech for given text\n",
    "    Saves it to speech_dir and return path\n",
    "    Args:\n",
    "    script: a complete script containing narrations and image descriptions\"\"\"\n",
    "    speech_dir = './outputs/speeches'\n",
    "\n",
    "    # if num==1:\n",
    "    for filename in os.listdir(speech_dir):\n",
    "        file_path = os.path.join(speech_dir, filename)\n",
    "        if os.path.isfile(file_path):\n",
    "            os.remove(file_path)\n",
    "    dict = process_script(script)\n",
    "    # print(dict)\n",
    "    for i, text in enumerate(dict['text_for_speech_generation']):\n",
    "    # if '<narration>' in text:\n",
    "    #     text = re.findall(r'<narration>(.*?)<narration>', text)\n",
    "    # else:\n",
    "    #     text = text\n",
    "    # print(num)\n",
    "      generate_speech(text, speech_dir, num=i)\n",
    "    return f'speeches generated.'#f'speech generated for \"{text}\" and saved to directory {speech_dir} as speech{num}.mp3'"
   ]
  },
  {
   "cell_type": "code",
   "execution_count": 37,
   "metadata": {},
   "outputs": [],
   "source": [
    "script = \" \\\n",
    "<narration>Discover the land of la dolce vita, where art, history, and passion come alive!</narration> \\\n",
    "<narration>From the snow-capped Alps to the picturesque Amalfi Coast,</narration>\\\n",
    "<narration>experience the rich flavors of Italy, where ancient ruins whisper secrets,</narration>\\\n",
    "<narration>and vibrant cities pulse with energy, inviting you to indulge in a world of beauty and delight.</narration>\\\n",
    "\\\n",
    "<image>A stunning aerial view of Italy, showcasing its diverse landscapes, from snow-capped mountains to scenic coastlines.</image>\\\n",
    "<image>The majestic snow-capped Alps, towering above the Italian countryside, a haven for outdoor enthusiasts.</image>\\\n",
    "<image>The picturesque Amalfi Coast, with colorful towns perched on cliffs, overlooking the turquoise Mediterranean Sea.</image>\\\n",
    "<image>An ancient Roman ruin, with crumbling columns and arches, surrounded by lush greenery, whispering secrets of the past.</image>\\\n",
    "<image>A bustling Italian city, with vibrant streets, ornate fountains, and historic buildings, pulsating with energy and life.</image>\\\n",
    "<image>A delicious Italian feast, with an abundance of pasta, pizza, and wine, inviting viewers to indulge in the rich flavors of Italy.</image>\\\n",
    "\""
   ]
  },
  {
   "cell_type": "code",
   "execution_count": 38,
   "metadata": {},
   "outputs": [
    {
     "data": {
      "text/plain": [
       "['A stunning aerial view of Italy, showcasing its diverse landscapes, from snow-capped mountains to scenic coastlines.',\n",
       " 'The majestic snow-capped Alps, towering above the Italian countryside, a haven for outdoor enthusiasts.',\n",
       " 'The picturesque Amalfi Coast, with colorful towns perched on cliffs, overlooking the turquoise Mediterranean Sea.',\n",
       " 'An ancient Roman ruin, with crumbling columns and arches, surrounded by lush greenery, whispering secrets of the past.',\n",
       " 'A bustling Italian city, with vibrant streets, ornate fountains, and historic buildings, pulsating with energy and life.',\n",
       " 'A delicious Italian feast, with an abundance of pasta, pizza, and wine, inviting viewers to indulge in the rich flavors of Italy.']"
      ]
     },
     "execution_count": 38,
     "metadata": {},
     "output_type": "execute_result"
    }
   ],
   "source": [
    "re.findall(r'<image>(.*?)</?image>', script)"
   ]
  },
  {
   "cell_type": "code",
   "execution_count": 39,
   "metadata": {},
   "outputs": [
    {
     "data": {
      "text/plain": [
       "['Discover the land of la dolce vita, where art, history, and passion come alive!',\n",
       " 'From the snow-capped Alps to the picturesque Amalfi Coast,',\n",
       " 'experience the rich flavors of Italy, where ancient ruins whisper secrets,',\n",
       " 'and vibrant cities pulse with energy, inviting you to indulge in a world of beauty and delight.']"
      ]
     },
     "execution_count": 39,
     "metadata": {},
     "output_type": "execute_result"
    }
   ],
   "source": [
    "re.findall(r'<narration>(.*?)</?narration>', script)"
   ]
  },
  {
   "cell_type": "code",
   "execution_count": 40,
   "metadata": {},
   "outputs": [
    {
     "name": "stderr",
     "output_type": "stream",
     "text": [
      "2024-07-03 09:22:59,665 - 15512 - warnings.py-warnings:109 - WARNING: c:\\Users\\prudh\\anaconda3\\envs\\gen_ai1\\lib\\site-packages\\langchain_core\\_api\\deprecation.py:139: LangChainDeprecationWarning: The method `BaseTool.__call__` was deprecated in langchain-core 0.1.47 and will be removed in 0.3.0. Use invoke instead.\n",
      "  warn_deprecated(\n",
      "\n",
      " `last_sigmas_type='zero'` is not supported for `lower_order_final=False`. Changing scheduler {self.config} to have `lower_order_final` set to True.\n"
     ]
    },
    {
     "data": {
      "application/vnd.jupyter.widget-view+json": {
       "model_id": "5d064183d00447e686e90ccbec0f9aa7",
       "version_major": 2,
       "version_minor": 0
      },
      "text/plain": [
       "  0%|          | 0/6 [00:00<?, ?it/s]"
      ]
     },
     "metadata": {},
     "output_type": "display_data"
    },
    {
     "data": {
      "application/vnd.jupyter.widget-view+json": {
       "model_id": "184e4dc73a064049987816fc6c66a23d",
       "version_major": 2,
       "version_minor": 0
      },
      "text/plain": [
       "  0%|          | 0/6 [00:00<?, ?it/s]"
      ]
     },
     "metadata": {},
     "output_type": "display_data"
    },
    {
     "data": {
      "application/vnd.jupyter.widget-view+json": {
       "model_id": "b97bc69c159743ad9853ebbe5237815c",
       "version_major": 2,
       "version_minor": 0
      },
      "text/plain": [
       "  0%|          | 0/6 [00:00<?, ?it/s]"
      ]
     },
     "metadata": {},
     "output_type": "display_data"
    },
    {
     "data": {
      "application/vnd.jupyter.widget-view+json": {
       "model_id": "bc3f58e15f084b8e874d9af46751b469",
       "version_major": 2,
       "version_minor": 0
      },
      "text/plain": [
       "  0%|          | 0/6 [00:00<?, ?it/s]"
      ]
     },
     "metadata": {},
     "output_type": "display_data"
    },
    {
     "data": {
      "application/vnd.jupyter.widget-view+json": {
       "model_id": "8b6ece7683774f0a8018f589520313e6",
       "version_major": 2,
       "version_minor": 0
      },
      "text/plain": [
       "  0%|          | 0/6 [00:00<?, ?it/s]"
      ]
     },
     "metadata": {},
     "output_type": "display_data"
    },
    {
     "data": {
      "application/vnd.jupyter.widget-view+json": {
       "model_id": "7d5ac351ae884a598a7360f1edcd0bbe",
       "version_major": 2,
       "version_minor": 0
      },
      "text/plain": [
       "  0%|          | 0/6 [00:00<?, ?it/s]"
      ]
     },
     "metadata": {},
     "output_type": "display_data"
    },
    {
     "data": {
      "text/plain": [
       "'images generated.'"
      ]
     },
     "execution_count": 40,
     "metadata": {},
     "output_type": "execute_result"
    }
   ],
   "source": [
    "image_generator(script)"
   ]
  },
  {
   "cell_type": "code",
   "execution_count": null,
   "metadata": {},
   "outputs": [],
   "source": []
  },
  {
   "cell_type": "code",
   "execution_count": 39,
   "metadata": {},
   "outputs": [],
   "source": [
    "script_agent = Agent(\n",
    "    role='Senior Content Writer',\n",
    "    goal='Craft engaging, concise, and informative narrations for YouTube short videos',\n",
    "    backstory=\"\"\"As a seasoned content writer, you excel at breaking down complex topics into captivating narratives that educate and entertain audiences. Your expertise lies in writing short, concise, attention-grabbing scripts for YouTube short videos.\"\"\",\n",
    "    verbose=True,\n",
    "    llm=llm,\n",
    "    allow_delegation=False,\n",
    ")\n",
    "\n",
    "image_descriptive_agent = Agent(\n",
    "    role='Visual Storyteller',\n",
    "    goal='Design stunning, contextually relevant visuals for YouTube short videos',\n",
    "    backstory='With a keen eye for visual storytelling, you create compelling imagery that elevates the narrative and captivates the audience. You will ',\n",
    "    verbose=True,\n",
    "    llm=llm,\n",
    "    allow_delegation=False\n",
    ")\n",
    "\n",
    "# img_speech_generating_agent = Agent(\n",
    "#     role='Multimedia Content Creator',\n",
    "#     goal='Generate high-quality images and speeches for YouTube short videos one after another based on provided descriptions.',\n",
    "#     backstory='As a multimedia expert, you excel at creating engaging multimedia content that brings stories to life.',\n",
    "#     verbose=True,\n",
    "#     llm=llm,\n",
    "#     allow_delegation=False\n",
    "# )\n",
    "\n",
    "img_speech_generating_agent = Agent(\n",
    "    role='Multimedia Content Creator',\n",
    "    goal='Generate high-quality images and speeches for YouTube short videos based on provided script',\n",
    "    backstory='As a multimedia expert, you excel at creating engaging multimedia content that brings stories to life.',\n",
    "    verbose=True,\n",
    "    llm=llm,\n",
    "    allow_delegation=False\n",
    ")\n",
    "\n",
    "editor = Agent(\n",
    "    role = 'Video editor',\n",
    "    goal = 'To make a video for YouTube shorts.',\n",
    "    backstory = \"You are a video editor working for a YouTube creator\",\n",
    "    verbose=True,\n",
    "    llm=llm,\n",
    "    allow_delegation = False,\n",
    "    tools = [create_video_from_images_and_audio]\n",
    ")\n",
    "\n",
    "content_generation_task = Task(\n",
    "    description='Generate engaging and informative content on the topic: {topic}. Use the provided tool, only if you have no idea about the given topic.',\n",
    "    expected_output=\"\"\"Good corpus of text about: {topic}\"\"\",\n",
    "    agent=script_agent,\n",
    "    tools = [wiki_tool]\n",
    ")\n",
    "\n",
    "story_writing_task = Task(\n",
    "    description='Write an engaging narration for a YouTube short video on the topic: {topic}. Use the provided context for more information.',\n",
    "    expected_output=\"\"\"A short paragraph suitable for narrating in five seconds that provides an immersive experience to the audience. Follow the below example for output length and format.\n",
    "\n",
    "    **Example input:**\n",
    "    Ancient Wonders of the World\n",
    "\n",
    "    **Output format:**\n",
    "    Embark on a journey through time and marvel at the ancient wonders of the world! \n",
    "    From the majestic Great Pyramid of Giza, symbolizing the ingenuity of ancient Egypt, \n",
    "    to the Hanging Gardens of Babylon, an oasis of lush beauty amidst ancient Mesopotamia's arid landscape. \n",
    "    These remarkable structures continue to intrigue and inspire awe, reminding us of humanity's enduring quest for greatness.\n",
    "    \"\"\",\n",
    "    agent=script_agent,\n",
    "    context = [content_generation_task]\n",
    ")\n",
    "\n",
    "\n",
    "img_text_task = Task(\n",
    "    description='Given the narration, visually describe each sentence in the narration which will be used as a prompt for image generation.',\n",
    "    expected_output=\"\"\"Sentences encoded in <narration> and <image> tags. Follow the example below for the output format. The output pairs should be between three to five.\n",
    "\n",
    "    **Example input:**\n",
    "    Embark on a journey through time and marvel at the ancient wonders of the world! From the majestic Great Pyramid of Giza, symbolizing the ingenuity of ancient Egypt, to the Hanging Gardens of Babylon, an oasis of lush beauty amidst ancient Mesopotamia's arid landscape. These remarkable structures continue to intrigue and inspire awe, reminding us of humanity's enduring quest for greatness.\n",
    "\n",
    "    **Output format:**\n",
    "\n",
    "    <narration>Embark on a journey through time and marvel at the ancient wonders of the world!</narration>\n",
    "    <image>A breathtaking view of various ancient wonders, showcasing their grandeur and mystery.</image>\n",
    "\n",
    "    <narration>From the majestic Great Pyramid of Giza, symbolizing the ingenuity of ancient Egypt,</narration>\n",
    "    <image>The majestic Great Pyramid of Giza, standing tall against the desert backdrop, a testament to ancient engineering.</image>\n",
    "\n",
    "    <narration>to the Hanging Gardens of Babylon, an oasis of lush beauty amidst ancient Mesopotamia's arid landscape,</narration>\n",
    "    <image>The Hanging Gardens of Babylon, lush greenery cascading from terraced gardens, amidst the arid Mesopotamian landscape.</image>\n",
    "\n",
    "    <narration>These remarkable structures continue to intrigue and inspire awe, reminding us of humanity's enduring quest for greatness.</narration>\n",
    "    <image>Visitors captivated by the beauty and historical significance of these ancient marvels, exploring and marveling.</image>\n",
    "    \"\"\",\n",
    "    agent=image_descriptive_agent,\n",
    "    context=[story_writing_task]\n",
    ")\n",
    "\n",
    "\n",
    "\n",
    "# process_script_task = Task(\n",
    "#     description=\"Extract text for image and speech generation from a provided script.\",\n",
    "#     expected_output=\"A dictionary containing lists of texts for image generation and speech generation.\",\n",
    "#     agent=ScriptSynthesizer\n",
    "# )\n",
    "\n",
    "# img_generation_task = Task(\n",
    "#     description='Given the input generate images for sequence of sentence enclosed in <image> tag.',\n",
    "#     expected_output=\"\"\"Acknowledgement of image generation\"\"\",\n",
    "#     tools = [image_generator],\n",
    "#     context = [img_text_task],\n",
    "#     # async_execution=True,\n",
    "#     agent=img_speech_generating_agent\n",
    "# )\n",
    "\n",
    "# speech_generation_task = Task(\n",
    "#     description='Given the input generate speech for each sentence enclosed in <narration> tag.',\n",
    "#     expected_output=\"\"\"Acknowledgement of speech generation\"\"\",\n",
    "#     tools = [speech_generator],\n",
    "#     context = [img_text_task],\n",
    "#     # async_execution=True,\n",
    "#     agent=img_speech_generating_agent\n",
    "# )\n",
    "img_generation_task = Task(\n",
    "    description='Given the script, use the given tool to generate images',\n",
    "    expected_output=\"\"\"Acknowledgement of image generation\"\"\",\n",
    "    tools = [image_generator],\n",
    "    context = [img_text_task],\n",
    "    # async_execution=True,\n",
    "    agent=img_speech_generating_agent\n",
    ")\n",
    "\n",
    "speech_generation_task = Task(\n",
    "    description='Given the script, use the given tool to generate speech',\n",
    "    expected_output=\"\"\"Acknowledgement of speech generation\"\"\",\n",
    "    tools = [speech_generator],\n",
    "    context = [img_text_task],\n",
    "    # async_execution=True,\n",
    "    agent=img_speech_generating_agent\n",
    ")\n",
    "\n",
    "make_video_task = Task(\n",
    "    description = 'Create video using images and speeches from the forlders \"outpus/images\" and \"outputs/speeches\"',\n",
    "    expected_output = \"output video path\",\n",
    "    agent=editor,\n",
    "    context = [img_generation_task, speech_generation_task]\n",
    ")"
   ]
  },
  {
   "cell_type": "code",
   "execution_count": 45,
   "metadata": {},
   "outputs": [
    {
     "name": "stderr",
     "output_type": "stream",
     "text": [
      "2024-07-03 17:51:20,988 - 11892 - __init__.py-__init__:518 - WARNING: Overriding of current TracerProvider is not allowed\n"
     ]
    },
    {
     "name": "stdout",
     "output_type": "stream",
     "text": [
      "\u001b[1m\u001b[95m [2024-07-03 17:51:21][DEBUG]: == Working Agent: Senior Content Writer\u001b[00m\n",
      "\u001b[1m\u001b[95m [2024-07-03 17:51:21][INFO]: == Starting Task: Generate engaging and informative content on the topic: Indian Gods. Use the provided tool, only if you have no idea about the given topic.\u001b[00m\n",
      "\n",
      "\n",
      "\u001b[1m> Entering new CrewAgentExecutor chain...\u001b[0m\n",
      "\u001b[32;1m\u001b[1;3mThought: I need to research about Indian Gods to create engaging and informative content.\n",
      "\n",
      "Action: wiki-tool\n",
      "\n",
      "Action Input: {\"query\": \"Indian Gods\"}\n",
      "\u001b[0m\u001b[95m \n",
      "\n",
      "Page: Hindu deities\n",
      "Summary: Hindu deities are the gods and goddesses in Hinduism. Deities in Hinduism are as diverse as its traditions, and a Hindu can choose to be polytheistic, pantheistic, monotheistic, monistic, even agnostic, atheistic, or humanist. The terms and epithets for deities within the diverse traditions of Hinduism vary, and include Deva, Devi, Ishvara, Ishvari, Bhagavān and Bhagavati. \n",
      "The deities of Hinduism have evolved from the Vedic era (2nd millennium BCE) through the medieval era (1st millennium CE), regionally within Nepal, Pakistan, India and in Southeast Asia, and across Hinduism's diverse traditions. The Hindu deity concept varies from a personal god as in Yoga school of Hindu philosophy, to thirty-three major deities in the Vedas, to hundreds of deities mentioned in the Puranas of Hinduism. Illustrations of major deities include Vishnu, Lakshmi, Shiva, Parvati, Brahma and Saraswati. These deities have distinct and complex personalities, yet are often viewed as aspects of the same Ultimate Reality called Brahman. From ancient times, the idea of equivalence has been cherished for all Hindus, in its texts and in early 1st-millennium sculpture with concepts such as Harihara (Half Vishnu, Half Shiva) and Ardhanārīshvara (half Shiva, half Parvati), with myths and temples that feature them together, declaring they are the same. Major deities have inspired their own Hindu traditions, such as Vaishnavism, Shaivism and Shaktism, but with shared mythology, ritual grammar, theosophy, axiology and polycentrism. Some Hindu traditions, such as Smartism from the mid 1st millennium CE, have included multiple major deities as henotheistic manifestations of Saguna Brahman, and as a means to realizing Nirguna Brahman. In Samkhya philosophy, Devata or deities are considered as \"natural sources of energy\" who have Sattva as the dominant Guna.\n",
      "Hindu deities are represented with various icons and anicons in sculptures and paintings, called Murtis and Pratimas. Some Hindu traditions, such as ancient Charvakas, rejected all deities and concept of god or goddess, while 19th-century British colonial era movements such as the Arya Samaj and Brahmo Samaj rejected deities and adopted monotheistic concepts similar to Abrahamic religions. Hindu deities have been adopted in other religions such as Jainism, and in regions outside India, such as predominantly Buddhist Thailand and Japan, where they continue to be revered in regional temples or arts.\n",
      "In ancient and medieval era texts of Hinduism, the human body is described as a temple, and deities are described to be parts residing within it, while the Brahman (Absolute Reality, God) is described to be the same, or of similar nature, as the Atman (Self), which Hindus believe is eternal and within every living being.\n",
      "\n",
      "Page: List of Native American deities\n",
      "Summary: List of Native American deities, sortable by name of tribe or name of deity.\n",
      "\n",
      "Page: Suresh\n",
      "Summary: Suresh is an Indian masculine given name originating in the Sanskrit word sureśa (compound of sura and īśa). Its meaning is \"Ruler of Gods\" and it has been used an epithet for the Hindu gods Indra, Brahma, Vishnu and Shiva.\n",
      "\u001b[00m\n",
      "\u001b[32;1m\u001b[1;3m\u001b[0m\n",
      "\n",
      "\u001b[1m> Finished chain.\u001b[0m\n",
      "\u001b[1m\u001b[92m [2024-07-03 17:51:30][DEBUG]: == [Senior Content Writer] Task output: Page: Hindu deities\n",
      "Summary: Hindu deities are the gods and goddesses in Hinduism. Deities in Hinduism are as diverse as its traditions, and a Hindu can choose to be polytheistic, pantheistic, monotheistic, monistic, even agnostic, atheistic, or humanist. The terms and epithets for deities within the diverse traditions of Hinduism vary, and include Deva, Devi, Ishvara, Ishvari, Bhagavān and Bhagavati. \n",
      "The deities of Hinduism have evolved from the Vedic era (2nd millennium BCE) through the medieval era (1st millennium CE), regionally within Nepal, Pakistan, India and in Southeast Asia, and across Hinduism's diverse traditions. The Hindu deity concept varies from a personal god as in Yoga school of Hindu philosophy, to thirty-three major deities in the Vedas, to hundreds of deities mentioned in the Puranas of Hinduism. Illustrations of major deities include Vishnu, Lakshmi, Shiva, Parvati, Brahma and Saraswati. These deities have distinct and complex personalities, yet are often viewed as aspects of the same Ultimate Reality called Brahman. From ancient times, the idea of equivalence has been cherished for all Hindus, in its texts and in early 1st-millennium sculpture with concepts such as Harihara (Half Vishnu, Half Shiva) and Ardhanārīshvara (half Shiva, half Parvati), with myths and temples that feature them together, declaring they are the same. Major deities have inspired their own Hindu traditions, such as Vaishnavism, Shaivism and Shaktism, but with shared mythology, ritual grammar, theosophy, axiology and polycentrism. Some Hindu traditions, such as Smartism from the mid 1st millennium CE, have included multiple major deities as henotheistic manifestations of Saguna Brahman, and as a means to realizing Nirguna Brahman. In Samkhya philosophy, Devata or deities are considered as \"natural sources of energy\" who have Sattva as the dominant Guna.\n",
      "Hindu deities are represented with various icons and anicons in sculptures and paintings, called Murtis and Pratimas. Some Hindu traditions, such as ancient Charvakas, rejected all deities and concept of god or goddess, while 19th-century British colonial era movements such as the Arya Samaj and Brahmo Samaj rejected deities and adopted monotheistic concepts similar to Abrahamic religions. Hindu deities have been adopted in other religions such as Jainism, and in regions outside India, such as predominantly Buddhist Thailand and Japan, where they continue to be revered in regional temples or arts.\n",
      "In ancient and medieval era texts of Hinduism, the human body is described as a temple, and deities are described to be parts residing within it, while the Brahman (Absolute Reality, God) is described to be the same, or of similar nature, as the Atman (Self), which Hindus believe is eternal and within every living being.\n",
      "\n",
      "Page: List of Native American deities\n",
      "Summary: List of Native American deities, sortable by name of tribe or name of deity.\n",
      "\n",
      "Page: Suresh\n",
      "Summary: Suresh is an Indian masculine given name originating in the Sanskrit word sureśa (compound of sura and īśa). Its meaning is \"Ruler of Gods\" and it has been used an epithet for the Hindu gods Indra, Brahma, Vishnu and Shiva.\n",
      "\n",
      "\u001b[00m\n",
      "\u001b[1m\u001b[95m [2024-07-03 17:51:30][DEBUG]: == Working Agent: Senior Content Writer\u001b[00m\n",
      "\u001b[1m\u001b[95m [2024-07-03 17:51:30][INFO]: == Starting Task: Write an engaging narration for a YouTube short video on the topic: Indian Gods. Use the provided context for more information.\u001b[00m\n",
      "\n",
      "\n",
      "\u001b[1m> Entering new CrewAgentExecutor chain...\u001b[0m\n",
      "\u001b[32;1m\u001b[1;3mI now can give a great answer.\n",
      "\n",
      "Final Answer:\n",
      "Explore the vibrant world of Indian gods, where divine energies converge! \n",
      "From the mighty Vishnu, preserver of the universe, to the fierce Shiva, destroyer of evil, \n",
      "these iconic deities embody the essence of Hinduism, a rich tapestry of traditions and beliefs.\u001b[0m\n",
      "\n",
      "\u001b[1m> Finished chain.\u001b[0m\n",
      "\u001b[1m\u001b[92m [2024-07-03 17:51:32][DEBUG]: == [Senior Content Writer] Task output: Explore the vibrant world of Indian gods, where divine energies converge! \n",
      "From the mighty Vishnu, preserver of the universe, to the fierce Shiva, destroyer of evil, \n",
      "these iconic deities embody the essence of Hinduism, a rich tapestry of traditions and beliefs.\n",
      "\n",
      "\u001b[00m\n",
      "\u001b[1m\u001b[95m [2024-07-03 17:51:32][DEBUG]: == Working Agent: Visual Storyteller\u001b[00m\n",
      "\u001b[1m\u001b[95m [2024-07-03 17:51:32][INFO]: == Starting Task: Given the narration, visually describe each sentence in the narration which will be used as a prompt for image generation.\u001b[00m\n",
      "\n",
      "\n",
      "\u001b[1m> Entering new CrewAgentExecutor chain...\u001b[0m\n",
      "\u001b[32;1m\u001b[1;3mI now can give a great answer\n",
      "\n",
      "Final Answer:\n",
      "\n",
      "<narration>Explore the vibrant world of Indian gods, where divine energies converge!</narration>\n",
      "<image>A stunning visual representation of the convergence of divine energies, with vibrant colors and intricate patterns, depicting the essence of Indian gods.</image>\n",
      "\n",
      "<narration>From the mighty Vishnu, preserver of the universe,</narration>\n",
      "<image>Vishnu, the blue-skinned god, standing majestically with four arms, surrounded by a halo of light, radiating peace and tranquility.</image>\n",
      "\n",
      "<narration>to the fierce Shiva, destroyer of evil,</narration>\n",
      "<image>Shiva, the powerful god, depicted in a dynamic pose, with a fiery aura and a third eye on his forehead, exuding strength and intensity.</image>\n",
      "\n",
      "<narration>these iconic deities embody the essence of Hinduism, a rich tapestry of traditions and beliefs.</narration>\n",
      "<image>A beautiful mosaic of various Hindu deities, symbols, and motifs, woven together to represent the rich cultural heritage and diversity of Hinduism.</image>\u001b[0m\n",
      "\n",
      "\u001b[1m> Finished chain.\u001b[0m\n",
      "\u001b[1m\u001b[92m [2024-07-03 17:51:34][DEBUG]: == [Visual Storyteller] Task output: <narration>Explore the vibrant world of Indian gods, where divine energies converge!</narration>\n",
      "<image>A stunning visual representation of the convergence of divine energies, with vibrant colors and intricate patterns, depicting the essence of Indian gods.</image>\n",
      "\n",
      "<narration>From the mighty Vishnu, preserver of the universe,</narration>\n",
      "<image>Vishnu, the blue-skinned god, standing majestically with four arms, surrounded by a halo of light, radiating peace and tranquility.</image>\n",
      "\n",
      "<narration>to the fierce Shiva, destroyer of evil,</narration>\n",
      "<image>Shiva, the powerful god, depicted in a dynamic pose, with a fiery aura and a third eye on his forehead, exuding strength and intensity.</image>\n",
      "\n",
      "<narration>these iconic deities embody the essence of Hinduism, a rich tapestry of traditions and beliefs.</narration>\n",
      "<image>A beautiful mosaic of various Hindu deities, symbols, and motifs, woven together to represent the rich cultural heritage and diversity of Hinduism.</image>\n",
      "\n",
      "\u001b[00m\n",
      "\u001b[1m\u001b[95m [2024-07-03 17:51:34][DEBUG]: == Working Agent: Multimedia Content Creator\u001b[00m\n",
      "\u001b[1m\u001b[95m [2024-07-03 17:51:34][INFO]: == Starting Task: Given the script, use the given tool to generate images\u001b[00m\n",
      "\n",
      "\n",
      "\u001b[1m> Entering new CrewAgentExecutor chain...\u001b[0m\n",
      "\u001b[32;1m\u001b[1;3mThought: I need to generate high-quality images for the given script.\n",
      "\n",
      "Action: image_generator\n",
      "Action Input: {\"script\": \"<narration>Explore the vibrant world of Indian gods, where divine energies converge!</narration><image>A stunning visual representation of the convergence of divine energies, with vibrant colors and intricate patterns, depicting the essence of Indian gods.</image><narration>From the mighty Vishnu, preserver of the universe,</narration><image>Vishnu, the blue-skinned god, standing majestically with four arms, surrounded by a halo of light, radiating peace and tranquility.</image><narration>to the fierce Shiva, destroyer of evil,</narration><image>Shiva, the powerful god, depicted in a dynamic pose, with a fiery aura and a third eye on his forehead, exuding strength and intensity.</image><narration>these iconic deities embody the essence of Hinduism, a rich tapestry of traditions and beliefs.</narration><image>A beautiful mosaic of various Hindu deities, symbols, and motifs, woven together to represent the rich cultural heritage and diversity of Hinduism.</image>\"}\n",
      "\u001b[0m"
     ]
    },
    {
     "data": {
      "application/vnd.jupyter.widget-view+json": {
       "model_id": "69fa86b6022f49a18c7a6405cce2ccfd",
       "version_major": 2,
       "version_minor": 0
      },
      "text/plain": [
       "  0%|          | 0/6 [00:00<?, ?it/s]"
      ]
     },
     "metadata": {},
     "output_type": "display_data"
    },
    {
     "data": {
      "application/vnd.jupyter.widget-view+json": {
       "model_id": "7bd68d066feb4a329f53848d8993cf9c",
       "version_major": 2,
       "version_minor": 0
      },
      "text/plain": [
       "  0%|          | 0/6 [00:00<?, ?it/s]"
      ]
     },
     "metadata": {},
     "output_type": "display_data"
    },
    {
     "data": {
      "application/vnd.jupyter.widget-view+json": {
       "model_id": "c75befc9086342329d26319b30b75588",
       "version_major": 2,
       "version_minor": 0
      },
      "text/plain": [
       "  0%|          | 0/6 [00:00<?, ?it/s]"
      ]
     },
     "metadata": {},
     "output_type": "display_data"
    },
    {
     "data": {
      "application/vnd.jupyter.widget-view+json": {
       "model_id": "072a4036a0344d65ab071226f0f80bf5",
       "version_major": 2,
       "version_minor": 0
      },
      "text/plain": [
       "  0%|          | 0/6 [00:00<?, ?it/s]"
      ]
     },
     "metadata": {},
     "output_type": "display_data"
    },
    {
     "name": "stdout",
     "output_type": "stream",
     "text": [
      "\u001b[95m \n",
      "\n",
      "images generated.\n",
      "\u001b[00m\n",
      "\u001b[32;1m\u001b[1;3mThought: I now know the final answer\n",
      "\n",
      "Final Answer: \n",
      "Image generated and saved to images_dir: /images_dir/image1.jpg\n",
      "Image generated and saved to images_dir: /images_dir/image2.jpg\n",
      "Image generated and saved to images_dir: /images_dir/image3.jpg\n",
      "Image generated and saved to images_dir: /images_dir/image4.jpg\u001b[0m\n",
      "\n",
      "\u001b[1m> Finished chain.\u001b[0m\n",
      "\u001b[1m\u001b[92m [2024-07-03 17:52:21][DEBUG]: == [Multimedia Content Creator] Task output: Image generated and saved to images_dir: /images_dir/image1.jpg\n",
      "Image generated and saved to images_dir: /images_dir/image2.jpg\n",
      "Image generated and saved to images_dir: /images_dir/image3.jpg\n",
      "Image generated and saved to images_dir: /images_dir/image4.jpg\n",
      "\n",
      "\u001b[00m\n",
      "\u001b[1m\u001b[95m [2024-07-03 17:52:21][DEBUG]: == Working Agent: Multimedia Content Creator\u001b[00m\n",
      "\u001b[1m\u001b[95m [2024-07-03 17:52:21][INFO]: == Starting Task: Given the script, use the given tool to generate speech\u001b[00m\n",
      "\n",
      "\n",
      "\u001b[1m> Entering new CrewAgentExecutor chain...\u001b[0m\n",
      "\u001b[32;1m\u001b[1;3mThought: I need to generate a speech for the given script using the speech_generator tool.\n",
      "\n",
      "Action: speech_generator\n",
      "Action Input: {\"script\": \"<narration>Explore the vibrant world of Indian gods, where divine energies converge!</narration><image>A stunning visual representation of the convergence of divine energies, with vibrant colors and intricate patterns, depicting the essence of Indian gods.</image><narration>From the mighty Vishnu, preserver of the universe,</narration><image>Vishnu, the blue-skinned god, standing majestically with four arms, surrounded by a halo of light, radiating peace and tranquility.</image><narration>to the fierce Shiva, destroyer of evil,</narration><image>Shiva, the powerful god, depicted in a dynamic pose, with a fiery aura and a third eye on his forehead, exuding strength and intensity.</image><narration>these iconic deities embody the essence of Hinduism, a rich tapestry of traditions and beliefs.</narration><image>A beautiful mosaic of various Hindu deities, symbols, and motifs, woven together to represent the rich cultural heritage and diversity of Hinduism.</image>\"}\u001b[0m\u001b[95m \n",
      "\n",
      "speeches generated.\n",
      "\u001b[00m\n",
      "\u001b[32;1m\u001b[1;3mThought: I now know the final answer\n",
      "Final Answer: \"Speech generated and saved to speech_dir. Path: /speech_dir/speech.mp3\"\u001b[0m\n",
      "\n",
      "\u001b[1m> Finished chain.\u001b[0m\n",
      "\u001b[1m\u001b[92m [2024-07-03 17:52:25][DEBUG]: == [Multimedia Content Creator] Task output: \"Speech generated and saved to speech_dir. Path: /speech_dir/speech.mp3\"\n",
      "\n",
      "\u001b[00m\n",
      "\u001b[1m\u001b[95m [2024-07-03 17:52:25][DEBUG]: == Working Agent: Video editor\u001b[00m\n",
      "\u001b[1m\u001b[95m [2024-07-03 17:52:25][INFO]: == Starting Task: Create video using images and speeches from the forlders \"outpus/images\" and \"outputs/speeches\"\u001b[00m\n",
      "\n",
      "\n",
      "\u001b[1m> Entering new CrewAgentExecutor chain...\u001b[0m\n",
      "\u001b[32;1m\u001b[1;3mI need to create a video for YouTube shorts using the images and speeches from the folders \"outputs/images\" and \"outputs/speeches\". \n",
      "\n",
      "Action: create_video_from_images_and_audio\n",
      "Action Input: {\"images_dir\": \"outputs/images\", \"speeches_dir\": \"outputs/speeches\", \"zoom_factor\": 1.2}\u001b[0mMoviepy - Building video outputs/final_video/final_video.mp4.\n",
      "MoviePy - Writing audio in final_videoTEMP_MPY_wvf_snd.mp3\n"
     ]
    },
    {
     "name": "stderr",
     "output_type": "stream",
     "text": [
      "                                                                    \r"
     ]
    },
    {
     "name": "stdout",
     "output_type": "stream",
     "text": [
      "MoviePy - Done.\n",
      "Moviepy - Writing video outputs/final_video/final_video.mp4\n",
      "\n"
     ]
    },
    {
     "name": "stderr",
     "output_type": "stream",
     "text": [
      "                                                              \r"
     ]
    },
    {
     "name": "stdout",
     "output_type": "stream",
     "text": [
      "Moviepy - Done !\n",
      "Moviepy - video ready outputs/final_video/final_video.mp4\n",
      "\u001b[95m \n",
      "\n",
      "final_video.mp4\n",
      "\u001b[00m\n",
      "\u001b[32;1m\u001b[1;3mHere is my final answer:\n",
      "\n",
      "Thought: I now know the final answer\n",
      "Final Answer: final_video.mp4\u001b[0m\n",
      "\n",
      "\u001b[1m> Finished chain.\u001b[0m\n",
      "\u001b[1m\u001b[92m [2024-07-03 17:52:37][DEBUG]: == [Video editor] Task output: final_video.mp4\n",
      "\n",
      "\u001b[00m\n"
     ]
    }
   ],
   "source": [
    "crew = Crew(\n",
    "    agents=[script_agent, image_descriptive_agent, img_speech_generating_agent, editor],\n",
    "    tasks=[content_generation_task, story_writing_task, img_text_task, img_generation_task,speech_generation_task,make_video_task],\n",
    "    process = Process.sequential,\n",
    "    # cache = True,\n",
    "    # memory=True,\n",
    "    verbose=2\n",
    ")\n",
    "\n",
    "result = crew.kickoff(inputs={'topic': 'AI Agents'})"
   ]
  },
  {
   "cell_type": "code",
   "execution_count": 19,
   "metadata": {},
   "outputs": [
    {
     "data": {
      "text/plain": [
       "\"<narration>Italy, officially the Italian Republic, is a country in Southern and Western Europe.</narration>\\n<image>A map of Italy, highlighting its location on the peninsula, surrounded by the Mediterranean Sea and bordering countries.</image>\\n\\n<narration>It is located on a peninsula that extends into the middle of the Mediterranean Sea, with the Alps on its northern land border, as well as islands, notably Sicily and Sardinia.</narration>\\n<image>A scenic view of the Italian peninsula, with the Alps in the background and the Mediterranean Sea in the foreground, featuring Sicily and Sardinia.</image>\\n\\n<narration>Italy shares its borders with France, Switzerland, Austria, Slovenia and two enclaves: Vatican City and San Marino.</narration>\\n<image>A detailed illustration of Italy's borders, highlighting the neighboring countries and enclaves, with flags and symbols.</image>\\n\\n<narration>It is the tenth-largest country in Europe, covering an area of 301,340 km2 (116,350 sq mi), and third-most populous member state of the European Union, with a population of nearly 60 million.</narration>\\n<image>A visual representation of Italy's size and population, with a map and infographics highlighting its ranking in Europe.</image>\\n\\n<narration>Its capital and largest city is Rome; other major urban areas include Milan, Naples, Turin, Florence, and Venice.</narration>\\n<image>A collage of Italy's major cities, showcasing their unique landmarks, architecture, and cultural icons.</image>\\n\\n<narration>In antiquity, Italy was home to numerous peoples; the Latin city of Rome, founded as a Kingdom, became a Republic that conquered the Mediterranean world and ruled it for centuries as an Empire.</narration>\\n<image>An illustration of ancient Rome, depicting its growth from a kingdom to a republic and eventually an empire, with iconic landmarks and historical figures.</image>\\n\\n<narration>With the spread of Christianity, Rome became the seat of the Catholic Church and the Papacy.</narration>\\n<image>A visual representation of the Vatican City, highlighting St. Peter's Basilica, the Sistine Chapel, and the Pope's residence.</image>\\n\\n<narration>During the Early Middle Ages, Italy experienced the fall of the Western Roman Empire and inward migration from Germanic tribes.</narration>\\n<image>A dark and moody illustration of\""
      ]
     },
     "execution_count": 19,
     "metadata": {},
     "output_type": "execute_result"
    }
   ],
   "source": [
    "result"
   ]
  },
  {
   "cell_type": "code",
   "execution_count": 29,
   "metadata": {},
   "outputs": [
    {
     "data": {
      "text/plain": [
       "'c:\\\\Users\\\\prudh\\\\Desktop\\\\Python\\\\Generative AI\\\\GenerativeAI-Projects\\\\10sec Shorts'"
      ]
     },
     "execution_count": 29,
     "metadata": {},
     "output_type": "execute_result"
    }
   ],
   "source": [
    "os.path.dirname(os.path.abspath(__name__))"
   ]
  },
  {
   "cell_type": "code",
   "execution_count": null,
   "metadata": {},
   "outputs": [
    {
     "name": "stdout",
     "output_type": "stream",
     "text": [
      "\u001b[32;1m\u001b[1;3mLet's start generating images for each sentence enclosed in the <image> tag.\n",
      "\n",
      "Thought: I need to generate high-quality images for each sentence enclosed in the <image> tag.\n",
      "\n",
      "Action: image_generator\n",
      "Action Input: {\"text\": \"A dreamy, soft-focused shot of a person walking through a bustling French market, surrounded by vibrant flowers, pastel-colored buildings, and a subtle Eiffel Tower silhouette in the background, evoking a sense of romance and whimsy.\", \"num\": 1}\u001b[0m\u001b[95m \n",
      "\n",
      "I tried reusing the same input, I must stop using this action input. I'll try something else instead.\n",
      "\n",
      "\n",
      "\u001b[00m\n"
     ]
    }
   ],
   "source": [
    "import gradio as gr\n",
    "import os\n",
    "\n",
    "\n",
    "def generate_video(topic):\n",
    "    crew.kickoff(inputs={'topic': topic})\n",
    "    return os.path.join(os.path.dirname(os.path.abspath(__name__)), 'outputs/final_video/final_video.mp4')\n",
    "\n",
    "app = gr.Interface(\n",
    "    fn=generate_video,\n",
    "    inputs='text',\n",
    "    # outputs=gr.Video(value=os.path.join('outputs/final_video/video.mp4'),label=\"Generated Video\", width=720/2, height=1280/2),\n",
    "    outputs = gr.Video(format='mp4',label=\"Generated Video\", width=720/2, height=1280/2),\n",
    "    title=\"ShortsIn\",\n",
    "    description=\"Shorts generator\"\n",
    ")\n",
    "\n",
    "app.launch()\n",
    "#os.path.dirname(os.path.abspath(__file__))"
   ]
  },
  {
   "cell_type": "code",
   "execution_count": null,
   "metadata": {},
   "outputs": [],
   "source": []
  }
 ],
 "metadata": {
  "kernelspec": {
   "display_name": "gen_ai1",
   "language": "python",
   "name": "python3"
  },
  "language_info": {
   "codemirror_mode": {
    "name": "ipython",
    "version": 3
   },
   "file_extension": ".py",
   "mimetype": "text/x-python",
   "name": "python",
   "nbconvert_exporter": "python",
   "pygments_lexer": "ipython3",
   "version": "3.10.14"
  }
 },
 "nbformat": 4,
 "nbformat_minor": 2
}
