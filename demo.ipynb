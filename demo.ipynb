{
 "cells": [
  {
   "cell_type": "code",
   "execution_count": 1,
   "metadata": {},
   "outputs": [],
   "source": [
    "from crewai import Task, Agent, Crew, Process\n",
    "from langchain.tools import tool\n",
    "import re\n",
    "import os\n",
    "from langchain_groq import ChatGroq\n",
    "llm = ChatGroq(model='llama3-70b-8192', temperature=1.0, max_tokens=2048)"
   ]
  },
  {
   "cell_type": "code",
   "execution_count": null,
   "metadata": {},
   "outputs": [],
   "source": []
  },
  {
   "cell_type": "code",
   "execution_count": null,
   "metadata": {},
   "outputs": [],
   "source": []
  },
  {
   "cell_type": "code",
   "execution_count": 37,
   "metadata": {},
   "outputs": [],
   "source": [
    "@tool\n",
    "def process_script(script):\n",
    "    \"\"\"Used to process the script into dictionary format\"\"\"\n",
    "    dict = {}\n",
    "    dict['text_for_image_generation'] = re.findall(r'<image>(.*?)<image>', script)\n",
    "    dict['text_for_speech_generation'] = re.findall(r'<narration>.*?<narration>', script)\n",
    "    return dict"
   ]
  },
  {
   "cell_type": "code",
   "execution_count": 38,
   "metadata": {},
   "outputs": [],
   "source": [
    "script_agent = Agent(\n",
    "    role='Senior Content Writer',\n",
    "    goal='Craft engaging, concise, and informative narrations for YouTube short videos',\n",
    "    backstory=\"\"\"As a seasoned content writer, you excel at breaking down complex topics into captivating narratives that educate and entertain audiences. Your expertise lies in writing concise, attention-grabbing scripts for YouTube short videos.\"\"\",\n",
    "    verbose=True,\n",
    "    llm=llm,\n",
    "    allow_delegation=False\n",
    ")\n",
    "\n",
    "image_descriptive_agent = Agent(\n",
    "    role='Visual Storyteller',\n",
    "    goal='Design stunning, contextually relevant visuals for YouTube short videos',\n",
    "    backstory='With a keen eye for visual storytelling, you create compelling imagery that elevates the narrative and captivates the audience. You will ',\n",
    "    verbose=True,\n",
    "    llm=llm,\n",
    "    allow_delegation=False\n",
    ")\n",
    "\n",
    "ScriptSynthesizer = Agent(\n",
    "    role='Script Processor',\n",
    "    goal='To process scripts by extracting text for image and speech generation',\n",
    "    backstory='you are designed to assist in the automated creation of YouTube Shorts by processing scripts and preparing them for further steps in the content creation pipeline.',\n",
    "    verbose=True,\n",
    "    llm=llm,\n",
    "    allow_delegation=False,\n",
    "    tools=[process_script]\n",
    ")"
   ]
  },
  {
   "cell_type": "code",
   "execution_count": 39,
   "metadata": {},
   "outputs": [],
   "source": [
    "story_writing_task = Task(\n",
    "    description='Write an engaging narration for a YouTube short video on the topic: {topic}',\n",
    "    expected_output=\"\"\"A short paragraph suitable for narrating in five seconds also provides immensive experice to audience. Folow the below example for output length and format.\n",
    "\n",
    "    **Example:**\n",
    "\n",
    "    **topic:**\n",
    "    Powerful Kings of History\n",
    "\n",
    "    **narration:**\n",
    "    In the pages of history, powerful kings have shaped the destinies of nations.\n",
    "    From Alexander the Great to Genghis Khan, their conquests have etched unforgettable legacies across civilizations.\n",
    "    Their leadership continues to inspire awe and fascination to this day.\n",
    "    \"\"\",\n",
    "    agent=script_agent\n",
    ")\n",
    "\n",
    "img_text_task = Task(\n",
    "    description='Given the narration,visually describe each sentence in the narration which will be used as a prompt for an image generation.',\n",
    "    expected_output=\"\"\"Sentences encoded in <narration> and <image> tags. Follow the below example for output format.\n",
    "\n",
    "    example input:\n",
    "    In the pages of history, powerful kings have shaped the destinies of nations. From Alexander the Great to Genghis Khan, their conquests have etched unforgettable legacies across civilizations. Their leadership continues to inspire awe and fascination to this day.\n",
    "\n",
    "    outupt format:\n",
    "    <narration>In the pages of history, powerful kings have shaped the destinies of nations.<narration>\n",
    "    <image>An epic portrayal of ancient kings standing triumphantly, clad in regal attire, commanding their kingdoms with strength and wisdom, amidst grandeur and splendor.<image>\n",
    "    <narration>From Alexander the Great to Genghis Khan, their conquests have etched unforgettable legacies across civilizations.<narration>\n",
    "    <image>Dramatic portraits of Alexander the Great and Genghis Khan, adorned in battle armor, leading their armies across vast landscapes and leaving a lasting mark on history.<image>\n",
    "    <narration>Their leadership continues to inspire awe and fascination to this day.<narration>\n",
    "    <image>A powerful visual of kings seated on thrones, symbols of authority and ambition, evoking admiration and wonder, against a backdrop of their enduring achievements.<image>\n",
    "    \"\"\",\n",
    "    agent=image_descriptive_agent,\n",
    "    context=[story_writing_task]\n",
    ")\n",
    "\n",
    "process_script_task = Task(\n",
    "    description=\"Extract text for image and speech generation from a provided script.\",\n",
    "    expected_output=\"A dictionary containing lists of texts for image generation and speech generation.\",\n",
    "    agent=ScriptSynthesizer\n",
    ")"
   ]
  },
  {
   "cell_type": "code",
   "execution_count": 40,
   "metadata": {},
   "outputs": [
    {
     "name": "stderr",
     "output_type": "stream",
     "text": [
      "2024-07-02 11:58:17,517 - 24464 - __init__.py-__init__:518 - WARNING: Overriding of current TracerProvider is not allowed\n"
     ]
    },
    {
     "name": "stdout",
     "output_type": "stream",
     "text": [
      "\u001b[1m\u001b[95m [2024-07-02 11:58:17][DEBUG]: == Working Agent: Senior Content Writer\u001b[00m\n",
      "\u001b[1m\u001b[95m [2024-07-02 11:58:17][INFO]: == Starting Task: Write an engaging narration for a YouTube short video on the topic: Indian People\u001b[00m\n",
      "\n",
      "\n",
      "\u001b[1m> Entering new CrewAgentExecutor chain...\u001b[0m\n",
      "\u001b[32;1m\u001b[1;3mI now can give a great answer!\n",
      "\n",
      "Final Answer:\n",
      "\n",
      "**topic:**\n",
      "Indian People\n",
      "\n",
      "**narration:**\n",
      "From the snow-capped Himalayas to the sun-kissed beaches of Kerala, India is home to a vibrant tapestry of cultures, traditions, and histories.\n",
      "With a rich heritage of spices, spirituality, and innovation, Indian people have contributed significantly to the world's diversity.\n",
      "From Mahatma Gandhi's non-violent revolution to the digital pioneers of Bengaluru, their stories continue to inspire and fascinate us.\n",
      "\n",
      "(Note: The narration is concise, engaging, and informative, suitable for a 5-second YouTube short video, providing an immersive experience for the audience.)\u001b[0m\n",
      "\n",
      "\u001b[1m> Finished chain.\u001b[0m\n",
      "\u001b[1m\u001b[92m [2024-07-02 11:58:18][DEBUG]: == [Senior Content Writer] Task output: **topic:**\n",
      "Indian People\n",
      "\n",
      "**narration:**\n",
      "From the snow-capped Himalayas to the sun-kissed beaches of Kerala, India is home to a vibrant tapestry of cultures, traditions, and histories.\n",
      "With a rich heritage of spices, spirituality, and innovation, Indian people have contributed significantly to the world's diversity.\n",
      "From Mahatma Gandhi's non-violent revolution to the digital pioneers of Bengaluru, their stories continue to inspire and fascinate us.\n",
      "\n",
      "(Note: The narration is concise, engaging, and informative, suitable for a 5-second YouTube short video, providing an immersive experience for the audience.)\n",
      "\n",
      "\u001b[00m\n",
      "\u001b[1m\u001b[95m [2024-07-02 11:58:18][DEBUG]: == Working Agent: Visual Storyteller\u001b[00m\n",
      "\u001b[1m\u001b[95m [2024-07-02 11:58:18][INFO]: == Starting Task: Given the narration,visually describe each sentence in the narration which will be used as a prompt for an image generation.\u001b[00m\n",
      "\n",
      "\n",
      "\u001b[1m> Entering new CrewAgentExecutor chain...\u001b[0m\n",
      "\u001b[32;1m\u001b[1;3mI understand the task and its importance. I'll provide a detailed and visually stunning description for each sentence of the narration, using the exact format required.\n",
      "\n",
      "Thought: I now can give a great answer\n",
      "\n",
      "Final Answer:\n",
      "\n",
      "<narration>From the snow-capped Himalayas to the sun-kissed beaches of Kerala, India is home to a vibrant tapestry of cultures, traditions, and histories.<narration>\n",
      "<image>A breathtaking aerial shot of the majestic Himalayas, giving way to a seamless transition of a bustling Indian street, showcasing vibrant colors, ornate architecture, and diverse people from different regions, set against the backdrop of a stunning Kerala beach at sunset, symbolizing the country's rich cultural diversity.<image>\n",
      "\n",
      "<narration>With a rich heritage of spices, spirituality, and innovation, Indian people have contributed significantly to the world's diversity.<narration>\n",
      "<image>A visually striking mosaic of iconic Indian elements, including intricate spice patterns, sacred geometric shapes, and ancient Indian instruments, blending seamlessly with modern innovations, such as sleek robots, 3D models, and futuristic cityscapes, representing the country's profound impact on global diversity.<image>\n",
      "\n",
      "<narration>From Mahatma Gandhi's non-violent revolution to the digital pioneers of Bengaluru, their stories continue to inspire and fascinate us.<narration>\n",
      "<image>A powerful split-screen visual, with Mahatma Gandhi's iconic Salt March image on one side, juxtaposed with a modern, sleek, and vibrant portrayal of Bengaluru's thriving tech industry, complete with coding screens, futuristic gadgets, and innovators at work, symbolizing the nation's journey from non-violent revolution to digital prowess, inspiring future generations.<image>\n",
      "\n",
      "I hope this outcome meets the expectations, and I'm confident that these visuals will elevate the narrative and captivate the audience.\u001b[0m\n",
      "\n",
      "\u001b[1m> Finished chain.\u001b[0m\n",
      "\u001b[1m\u001b[92m [2024-07-02 11:58:20][DEBUG]: == [Visual Storyteller] Task output: <narration>From the snow-capped Himalayas to the sun-kissed beaches of Kerala, India is home to a vibrant tapestry of cultures, traditions, and histories.<narration>\n",
      "<image>A breathtaking aerial shot of the majestic Himalayas, giving way to a seamless transition of a bustling Indian street, showcasing vibrant colors, ornate architecture, and diverse people from different regions, set against the backdrop of a stunning Kerala beach at sunset, symbolizing the country's rich cultural diversity.<image>\n",
      "\n",
      "<narration>With a rich heritage of spices, spirituality, and innovation, Indian people have contributed significantly to the world's diversity.<narration>\n",
      "<image>A visually striking mosaic of iconic Indian elements, including intricate spice patterns, sacred geometric shapes, and ancient Indian instruments, blending seamlessly with modern innovations, such as sleek robots, 3D models, and futuristic cityscapes, representing the country's profound impact on global diversity.<image>\n",
      "\n",
      "<narration>From Mahatma Gandhi's non-violent revolution to the digital pioneers of Bengaluru, their stories continue to inspire and fascinate us.<narration>\n",
      "<image>A powerful split-screen visual, with Mahatma Gandhi's iconic Salt March image on one side, juxtaposed with a modern, sleek, and vibrant portrayal of Bengaluru's thriving tech industry, complete with coding screens, futuristic gadgets, and innovators at work, symbolizing the nation's journey from non-violent revolution to digital prowess, inspiring future generations.<image>\n",
      "\n",
      "I hope this outcome meets the expectations, and I'm confident that these visuals will elevate the narrative and captivate the audience.\n",
      "\n",
      "\u001b[00m\n",
      "\u001b[1m\u001b[95m [2024-07-02 11:58:20][DEBUG]: == Working Agent: Script Processor\u001b[00m\n",
      "\u001b[1m\u001b[95m [2024-07-02 11:58:20][INFO]: == Starting Task: Extract text for image and speech generation from a provided script.\u001b[00m\n",
      "\n",
      "\n",
      "\u001b[1m> Entering new CrewAgentExecutor chain...\u001b[0m\n",
      "\u001b[32;1m\u001b[1;3mI understand the task at hand. I need to extract text for image and speech generation from the provided script.\n",
      "\n",
      "Action: process_script\n",
      "Action Input: {\"script\": \"<narration>From the snow-capped Himalayas to the sun-kissed beaches of Kerala, India is home to a vibrant tapestry of cultures, traditions, and histories.<narration><image>A breathtaking aerial shot of the majestic Himalayas, giving way to a seamless transition of a bustling Indian street, showcasing vibrant colors, ornate architecture, and diverse people from different regions, set against the backdrop of a stunning Kerala beach at sunset, symbolizing the country's rich cultural diversity.<image><narration>With a rich heritage of spices, spirituality, and innovation, Indian people have contributed significantly to the world's diversity.<narration><image>A visually striking mosaic of iconic Indian elements, including intricate spice patterns, sacred geometric shapes, and ancient Indian instruments, blending seamlessly with modern innovations, such as sleek robots, 3D models, and futuristic cityscapes, representing the country's profound impact on global diversity.<image><narration>From Mahatma Gandhi's non-violent revolution to the digital pioneers of Bengaluru, their stories continue to inspire and fascinate us.<narration><image>A powerful split-screen visual, with Mahatma Gandhi's iconic Salt March image on one side, juxtaposed with a modern, sleek, and vibrant portrayal of Bengaluru's thriving tech industry, complete with coding screens, futuristic gadgets, and innovators at work, symbolizing the nation's journey from non-violent revolution to digital prowess, inspiring future generations.<image>\"}\n",
      "\u001b[0m\u001b[95m \n",
      "\n",
      "{'text_for_image_generation': [\"A breathtaking aerial shot of the majestic Himalayas, giving way to a seamless transition of a bustling Indian street, showcasing vibrant colors, ornate architecture, and diverse people from different regions, set against the backdrop of a stunning Kerala beach at sunset, symbolizing the country's rich cultural diversity.\", \"A visually striking mosaic of iconic Indian elements, including intricate spice patterns, sacred geometric shapes, and ancient Indian instruments, blending seamlessly with modern innovations, such as sleek robots, 3D models, and futuristic cityscapes, representing the country's profound impact on global diversity.\", \"A powerful split-screen visual, with Mahatma Gandhi's iconic Salt March image on one side, juxtaposed with a modern, sleek, and vibrant portrayal of Bengaluru's thriving tech industry, complete with coding screens, futuristic gadgets, and innovators at work, symbolizing the nation's journey from non-violent revolution to digital prowess, inspiring future generations.\"], 'text_for_speech_generation': ['<narration>From the snow-capped Himalayas to the sun-kissed beaches of Kerala, India is home to a vibrant tapestry of cultures, traditions, and histories.<narration>', \"<narration>With a rich heritage of spices, spirituality, and innovation, Indian people have contributed significantly to the world's diversity.<narration>\", \"<narration>From Mahatma Gandhi's non-violent revolution to the digital pioneers of Bengaluru, their stories continue to inspire and fascinate us.<narration>\"]}\n",
      "\u001b[00m\n",
      "\u001b[32;1m\u001b[1;3mThought: I now know the final answer\n",
      "\n",
      "Final Answer: {'text_for_image_generation': [\"A breathtaking aerial shot of the majestic Himalayas, giving way to a seamless transition of a bustling Indian street, showcasing vibrant colors, ornate architecture, and diverse people from different regions, set against the backdrop of a stunning Kerala beach at sunset, symbolizing the country's rich cultural diversity.\", \"A visually striking mosaic of iconic Indian elements, including intricate spice patterns, sacred geometric shapes, and ancient Indian instruments, blending seamlessly with modern innovations, such as sleek robots, 3D models, and futuristic cityscapes, representing the country's profound impact on global diversity.\", \"A powerful split-screen visual, with Mahatma Gandhi's iconic Salt March image on one side, juxtaposed with a modern, sleek, and vibrant portrayal of Bengaluru's thriving tech industry, complete with coding screens, futuristic gadgets, and innovators at work, symbolizing the nation's journey from non-violent revolution to digital prowess, inspiring future generations.\"], 'text_for_speech_generation': [\"From the snow-capped Himalayas to the sun-kissed beaches of Kerala, India is home to a vibrant tapestry of cultures, traditions, and histories.\", \"With a rich heritage of spices, spirituality, and innovation, Indian people have contributed significantly to the world's diversity.\", \"From Mahatma Gandhi's non-violent revolution to the digital pioneers of Bengaluru, their stories continue to inspire and fascinate us.\"]}\u001b[0m\n",
      "\n",
      "\u001b[1m> Finished chain.\u001b[0m\n",
      "\u001b[1m\u001b[92m [2024-07-02 11:58:24][DEBUG]: == [Script Processor] Task output: {'text_for_image_generation': [\"A breathtaking aerial shot of the majestic Himalayas, giving way to a seamless transition of a bustling Indian street, showcasing vibrant colors, ornate architecture, and diverse people from different regions, set against the backdrop of a stunning Kerala beach at sunset, symbolizing the country's rich cultural diversity.\", \"A visually striking mosaic of iconic Indian elements, including intricate spice patterns, sacred geometric shapes, and ancient Indian instruments, blending seamlessly with modern innovations, such as sleek robots, 3D models, and futuristic cityscapes, representing the country's profound impact on global diversity.\", \"A powerful split-screen visual, with Mahatma Gandhi's iconic Salt March image on one side, juxtaposed with a modern, sleek, and vibrant portrayal of Bengaluru's thriving tech industry, complete with coding screens, futuristic gadgets, and innovators at work, symbolizing the nation's journey from non-violent revolution to digital prowess, inspiring future generations.\"], 'text_for_speech_generation': [\"From the snow-capped Himalayas to the sun-kissed beaches of Kerala, India is home to a vibrant tapestry of cultures, traditions, and histories.\", \"With a rich heritage of spices, spirituality, and innovation, Indian people have contributed significantly to the world's diversity.\", \"From Mahatma Gandhi's non-violent revolution to the digital pioneers of Bengaluru, their stories continue to inspire and fascinate us.\"]}\n",
      "\n",
      "\u001b[00m\n"
     ]
    }
   ],
   "source": [
    "crew = Crew(\n",
    "    agents=[script_agent, image_descriptive_agent, ScriptSynthesizer],\n",
    "    tasks=[story_writing_task, img_text_task, process_script_task],\n",
    "    process = Process.sequential,\n",
    "    cache = True,\n",
    "    # memory=True,\n",
    "    verbose=2\n",
    ")\n",
    "\n",
    "result = crew.kickoff(inputs={'topic': 'Indian People'})"
   ]
  },
  {
   "cell_type": "code",
   "execution_count": 41,
   "metadata": {},
   "outputs": [
    {
     "name": "stdout",
     "output_type": "stream",
     "text": [
      "{'text_for_image_generation': [\"A breathtaking aerial shot of the majestic Himalayas, giving way to a seamless transition of a bustling Indian street, showcasing vibrant colors, ornate architecture, and diverse people from different regions, set against the backdrop of a stunning Kerala beach at sunset, symbolizing the country's rich cultural diversity.\", \"A visually striking mosaic of iconic Indian elements, including intricate spice patterns, sacred geometric shapes, and ancient Indian instruments, blending seamlessly with modern innovations, such as sleek robots, 3D models, and futuristic cityscapes, representing the country's profound impact on global diversity.\", \"A powerful split-screen visual, with Mahatma Gandhi's iconic Salt March image on one side, juxtaposed with a modern, sleek, and vibrant portrayal of Bengaluru's thriving tech industry, complete with coding screens, futuristic gadgets, and innovators at work, symbolizing the nation's journey from non-violent revolution to digital prowess, inspiring future generations.\"], 'text_for_speech_generation': [\"From the snow-capped Himalayas to the sun-kissed beaches of Kerala, India is home to a vibrant tapestry of cultures, traditions, and histories.\", \"With a rich heritage of spices, spirituality, and innovation, Indian people have contributed significantly to the world's diversity.\", \"From Mahatma Gandhi's non-violent revolution to the digital pioneers of Bengaluru, their stories continue to inspire and fascinate us.\"]}\n"
     ]
    }
   ],
   "source": [
    "print(result)"
   ]
  },
  {
   "cell_type": "code",
   "execution_count": 42,
   "metadata": {},
   "outputs": [
    {
     "data": {
      "text/plain": [
       "str"
      ]
     },
     "execution_count": 42,
     "metadata": {},
     "output_type": "execute_result"
    }
   ],
   "source": [
    "type(result)"
   ]
  },
  {
   "cell_type": "code",
   "execution_count": null,
   "metadata": {},
   "outputs": [],
   "source": []
  },
  {
   "cell_type": "code",
   "execution_count": 5,
   "metadata": {},
   "outputs": [
    {
     "name": "stdout",
     "output_type": "stream",
     "text": [
      "['image1.jpg', 'image2.jpg', 'image3.jpg'] ['speech_1.mp3', 'speech_2.mp3', 'speech_3.mp3']\n",
      "Moviepy - Building video outputs/final_video/final_video.mp4.\n",
      "MoviePy - Writing audio in final_videoTEMP_MPY_wvf_snd.mp3\n"
     ]
    },
    {
     "name": "stderr",
     "output_type": "stream",
     "text": [
      "                                                                    \r"
     ]
    },
    {
     "name": "stdout",
     "output_type": "stream",
     "text": [
      "MoviePy - Done.\n",
      "Moviepy - Writing video outputs/final_video/final_video.mp4\n",
      "\n"
     ]
    },
    {
     "name": "stderr",
     "output_type": "stream",
     "text": [
      "                                                              \r"
     ]
    },
    {
     "name": "stdout",
     "output_type": "stream",
     "text": [
      "Moviepy - Done !\n",
      "Moviepy - video ready outputs/final_video/final_video.mp4\n",
      "Video created at: final_video.mp4\n"
     ]
    }
   ],
   "source": [
    "from moviepy.editor import ImageClip, AudioFileClip, concatenate_videoclips, VideoFileClip\n",
    "import cv2\n",
    "import os\n",
    "\n",
    "def apply_zoom_in_effect(clip, zoom_factor=1.2):\n",
    "    width, height = clip.size\n",
    "    duration = clip.duration\n",
    "\n",
    "    def zoom_in_effect(get_frame, t):\n",
    "        frame = get_frame(t)\n",
    "        zoom = 1 + (zoom_factor - 1) * (t / duration)\n",
    "        new_width, new_height = int(width * zoom), int(height * zoom)\n",
    "        resized_frame = cv2.resize(frame, (new_width, new_height))\n",
    "        \n",
    "        # Calculate the position to crop the frame to the original size\n",
    "        x_start = (new_width - width) // 2\n",
    "        y_start = (new_height - height) // 2\n",
    "        cropped_frame = resized_frame[y_start:y_start + height, x_start:x_start + width]\n",
    "        \n",
    "        return cropped_frame\n",
    "\n",
    "    return clip.fl(zoom_in_effect, apply_to=['mask'])\n",
    "\n",
    "def create_video_from_images_and_audio(images_dir, speeches_dir, zoom_factor=1.2):\n",
    "    \"\"\"Creates video using images and audios with zoom-in effect\"\"\"\n",
    "    images_paths = os.listdir(images_dir)\n",
    "    audio_paths = os.listdir(speeches_dir)\n",
    "    print(images_paths, audio_paths)\n",
    "    clips = []\n",
    "    \n",
    "    for i in range(min(len(images_paths), len(audio_paths))):\n",
    "        # Load the image\n",
    "        img_clip = ImageClip(os.path.join(images_dir, images_paths[i]))\n",
    "        \n",
    "        # Load the audio file\n",
    "        audioclip = AudioFileClip(os.path.join(speeches_dir, audio_paths[i]))\n",
    "        \n",
    "        # Set the duration of the video clip to the duration of the audio file\n",
    "        videoclip = img_clip.set_duration(audioclip.duration)\n",
    "        \n",
    "        # Apply zoom-in effect to the video clip\n",
    "        zoomed_clip = apply_zoom_in_effect(videoclip, zoom_factor)\n",
    "        \n",
    "        # Add audio to the zoomed video clip\n",
    "        zoomed_clip = zoomed_clip.set_audio(audioclip)\n",
    "        \n",
    "        clips.append(zoomed_clip)\n",
    "    \n",
    "    # Concatenate all video clips\n",
    "    final_clip = concatenate_videoclips(clips)\n",
    "    \n",
    "    # Write the result to a file\n",
    "    final_clip.write_videofile(\"outputs/final_video/final_video.mp4\", codec='libx264', fps=24)\n",
    "    \n",
    "    return \"final_video.mp4\"\n",
    "\n",
    "# Example usage\n",
    "image_paths = \"outputs/images\"\n",
    "audio_paths = \"outputs/speeches\"\n",
    "\n",
    "video_path = create_video_from_images_and_audio(image_paths, audio_paths, zoom_factor=1.2)\n",
    "print(f\"Video created at: {video_path}\")"
   ]
  },
  {
   "cell_type": "code",
   "execution_count": null,
   "metadata": {},
   "outputs": [],
   "source": []
  },
  {
   "cell_type": "code",
   "execution_count": null,
   "metadata": {},
   "outputs": [],
   "source": []
  },
  {
   "cell_type": "code",
   "execution_count": null,
   "metadata": {},
   "outputs": [],
   "source": []
  },
  {
   "cell_type": "code",
   "execution_count": null,
   "metadata": {},
   "outputs": [],
   "source": []
  },
  {
   "cell_type": "code",
   "execution_count": null,
   "metadata": {},
   "outputs": [],
   "source": []
  }
 ],
 "metadata": {
  "kernelspec": {
   "display_name": "gen_ai1",
   "language": "python",
   "name": "python3"
  },
  "language_info": {
   "codemirror_mode": {
    "name": "ipython",
    "version": 3
   },
   "file_extension": ".py",
   "mimetype": "text/x-python",
   "name": "python",
   "nbconvert_exporter": "python",
   "pygments_lexer": "ipython3",
   "version": "3.10.14"
  }
 },
 "nbformat": 4,
 "nbformat_minor": 2
}
